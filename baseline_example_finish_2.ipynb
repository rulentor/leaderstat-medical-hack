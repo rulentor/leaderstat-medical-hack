{
 "cells": [
  {
   "cell_type": "code",
   "execution_count": 34,
   "metadata": {
    "ExecuteTime": {
     "end_time": "2021-11-28T06:47:44.614822Z",
     "start_time": "2021-11-28T06:47:44.459264Z"
    }
   },
   "outputs": [],
   "source": [
    "import pandas as pd\n",
    "import numpy as np\n",
    "import re\n",
    "import itertools\n",
    "import seaborn as sns\n",
    "\n",
    "from sklearn.model_selection import train_test_split\n",
    "from sklearn.utils import shuffle\n",
    "from sklearn.ensemble import RandomForestClassifier\n",
    "\n",
    "from sklearn.preprocessing import StandardScaler\n",
    "from sklearn import metrics\n",
    "\n",
    "\n"
   ]
  },
  {
   "cell_type": "code",
   "execution_count": 2,
   "metadata": {
    "ExecuteTime": {
     "end_time": "2021-11-28T06:12:25.029872Z",
     "start_time": "2021-11-28T06:12:25.020341Z"
    }
   },
   "outputs": [],
   "source": [
    "\n",
    "diag_list = [\n",
    "             'A', 'B', 'C', 'D', 'E',\n",
    "             'G', 'H', 'I', 'J', 'K', \n",
    "             'L','M', 'N', 'O', 'Q', \n",
    "             'R', 'S', 'T', 'V', 'Z'\n",
    "            ]\n",
    "\n",
    "\n",
    "diag_dict ={}\n",
    "\n",
    "for i, v in enumerate(diag_list):\n",
    "    diag_dict[v] = i\n",
    "    "
   ]
  },
  {
   "cell_type": "code",
   "execution_count": 3,
   "metadata": {
    "ExecuteTime": {
     "end_time": "2021-11-28T06:12:25.054980Z",
     "start_time": "2021-11-28T06:12:25.035205Z"
    }
   },
   "outputs": [],
   "source": [
    "def spliting_data(df):\n",
    "    \n",
    "    df['Temp'] = np.nan\n",
    "    df['Weight'] = np.nan\n",
    "    df['Height'] = np.nan\n",
    "    df['Diag_1'] = ''\n",
    "    \n",
    "    for index, row in df.iterrows():\n",
    "        if isinstance(row[1], str):\n",
    "            if ('Температура тела : ' in row[1]):\n",
    "                result = re.search('Температура тела : ([0-9]{2}[,][0-9]?) С', row[1])\n",
    "                if result:\n",
    "                    df.iat[index,3] = float(str(result.group(1)).replace(',', '.'))\n",
    "\n",
    "            if ('Веc, кг' in row[1]):\n",
    "                result = re.search('Веc, кг : ([0-9]{1,3})', row[1])\n",
    "                if result:\n",
    "                    df.iat[index,4] = int(result.group(1))\n",
    "\n",
    "            if ('Рост, см :' in row[1]):\n",
    "                result = re.search('Рост, см : ([0-9]{1,3})', row[1])\n",
    "                if result:\n",
    "                    df.iat[index,5] = int(result.group(1))\n",
    "\n",
    "            if ('ДИАГНОЗ' in row[1]):\n",
    "                result = re.search(': ([A-Z][0-9]{2}.?[0-9]?)', row[1])\n",
    "                if result:\n",
    "                    df.iat[index,6] = str(result.group(1))[0]\n",
    "\n",
    "                if ('МКБ10' in row[1]):\n",
    "                    result = re.search(': ([A-Z][0-9]{2}.?[0-9]?)', row[1])\n",
    "                    if result:\n",
    "                        df.iat[index,6] = str(result.group(1))[0]\n",
    "   \n",
    "    df = df.drop(['id','text'], axis = 1)\n",
    "    df = df.query(\"Diag_1 != ''\")\n",
    "    \n",
    "    return df"
   ]
  },
  {
   "cell_type": "code",
   "execution_count": 4,
   "metadata": {
    "ExecuteTime": {
     "end_time": "2021-11-28T06:12:25.069411Z",
     "start_time": "2021-11-28T06:12:25.059152Z"
    }
   },
   "outputs": [],
   "source": [
    "\n",
    "\n",
    "def cleaning(df):\n",
    "    \n",
    "    df['BMI'] = df['Weight']/(df['Height']/100)**2\n",
    "    df = df.loc[df['Temp'] < 42] \n",
    "    df = df.loc[df['Temp'] > 33]\n",
    "    df = df[df['Height'] > 53]\n",
    "    df = df[df['Height'] <= 220]\n",
    "    df = df[df['Weight'] > 2.5]\n",
    "    df = df[df['Weight'] <= 180]    \n",
    "    df = df[df['BMI'] > 10]\n",
    "    df = df[df['BMI'] <= 60] \n",
    "    \n",
    "    \n",
    "    df = df[df['Diag_1'].isin(diag_list)] \n",
    "    df = df.reset_index(drop = True)\n",
    "    \n",
    "    return df\n",
    " "
   ]
  },
  {
   "cell_type": "code",
   "execution_count": 5,
   "metadata": {
    "ExecuteTime": {
     "end_time": "2021-11-28T06:12:25.079127Z",
     "start_time": "2021-11-28T06:12:25.073714Z"
    }
   },
   "outputs": [],
   "source": [
    "def add_cat(row):\n",
    "    return diag_dict[row]"
   ]
  },
  {
   "cell_type": "code",
   "execution_count": 6,
   "metadata": {
    "ExecuteTime": {
     "end_time": "2021-11-28T06:12:25.095673Z",
     "start_time": "2021-11-28T06:12:25.089111Z"
    }
   },
   "outputs": [],
   "source": [
    "def biseline_data(name):\n",
    "    df = pd.read_csv(name)\n",
    "    df = spliting_data(df)\n",
    "    df = cleaning(df)\n",
    "    df['Diag_cat'] = df['Diag_1'].apply(add_cat)\n",
    "    df = df.drop('Diag_1', axis = 1)\n",
    "    return df\n",
    "    "
   ]
  },
  {
   "cell_type": "code",
   "execution_count": 7,
   "metadata": {
    "ExecuteTime": {
     "end_time": "2021-11-28T06:14:22.295178Z",
     "start_time": "2021-11-28T06:12:25.099161Z"
    }
   },
   "outputs": [
    {
     "name": "stdout",
     "output_type": "stream",
     "text": [
      "<class 'pandas.core.frame.DataFrame'>\n",
      "RangeIndex: 33095 entries, 0 to 33094\n",
      "Data columns (total 6 columns):\n",
      " #   Column    Non-Null Count  Dtype  \n",
      "---  ------    --------------  -----  \n",
      " 0   label     33095 non-null  float64\n",
      " 1   Temp      33095 non-null  float64\n",
      " 2   Weight    33095 non-null  float64\n",
      " 3   Height    33095 non-null  float64\n",
      " 4   BMI       33095 non-null  float64\n",
      " 5   Diag_cat  33095 non-null  int64  \n",
      "dtypes: float64(5), int64(1)\n",
      "memory usage: 1.5 MB\n"
     ]
    }
   ],
   "source": [
    "df_train = biseline_data('train.csv')\n",
    "\n",
    "df_train.info()"
   ]
  },
  {
   "cell_type": "code",
   "execution_count": 8,
   "metadata": {
    "ExecuteTime": {
     "end_time": "2021-11-28T06:14:46.993996Z",
     "start_time": "2021-11-28T06:14:22.301289Z"
    },
    "scrolled": true
   },
   "outputs": [
    {
     "data": {
      "text/html": [
       "<div>\n",
       "<style scoped>\n",
       "    .dataframe tbody tr th:only-of-type {\n",
       "        vertical-align: middle;\n",
       "    }\n",
       "\n",
       "    .dataframe tbody tr th {\n",
       "        vertical-align: top;\n",
       "    }\n",
       "\n",
       "    .dataframe thead th {\n",
       "        text-align: right;\n",
       "    }\n",
       "</style>\n",
       "<table border=\"1\" class=\"dataframe\">\n",
       "  <thead>\n",
       "    <tr style=\"text-align: right;\">\n",
       "      <th></th>\n",
       "      <th>label</th>\n",
       "      <th>Temp</th>\n",
       "      <th>Weight</th>\n",
       "      <th>Height</th>\n",
       "      <th>BMI</th>\n",
       "      <th>Diag_cat</th>\n",
       "    </tr>\n",
       "  </thead>\n",
       "  <tbody>\n",
       "    <tr>\n",
       "      <th>0</th>\n",
       "      <td>0</td>\n",
       "      <td>36.5</td>\n",
       "      <td>82.0</td>\n",
       "      <td>185.0</td>\n",
       "      <td>23.959094</td>\n",
       "      <td>3</td>\n",
       "    </tr>\n",
       "    <tr>\n",
       "      <th>1</th>\n",
       "      <td>0</td>\n",
       "      <td>36.6</td>\n",
       "      <td>87.0</td>\n",
       "      <td>165.0</td>\n",
       "      <td>31.955923</td>\n",
       "      <td>7</td>\n",
       "    </tr>\n",
       "    <tr>\n",
       "      <th>2</th>\n",
       "      <td>0</td>\n",
       "      <td>36.6</td>\n",
       "      <td>106.0</td>\n",
       "      <td>180.0</td>\n",
       "      <td>32.716049</td>\n",
       "      <td>7</td>\n",
       "    </tr>\n",
       "    <tr>\n",
       "      <th>3</th>\n",
       "      <td>0</td>\n",
       "      <td>36.8</td>\n",
       "      <td>108.0</td>\n",
       "      <td>178.0</td>\n",
       "      <td>34.086605</td>\n",
       "      <td>7</td>\n",
       "    </tr>\n",
       "    <tr>\n",
       "      <th>4</th>\n",
       "      <td>0</td>\n",
       "      <td>36.6</td>\n",
       "      <td>105.0</td>\n",
       "      <td>178.0</td>\n",
       "      <td>33.139755</td>\n",
       "      <td>4</td>\n",
       "    </tr>\n",
       "  </tbody>\n",
       "</table>\n",
       "</div>"
      ],
      "text/plain": [
       "   label  Temp  Weight  Height        BMI  Diag_cat\n",
       "0      0  36.5    82.0   185.0  23.959094         3\n",
       "1      0  36.6    87.0   165.0  31.955923         7\n",
       "2      0  36.6   106.0   180.0  32.716049         7\n",
       "3      0  36.8   108.0   178.0  34.086605         7\n",
       "4      0  36.6   105.0   178.0  33.139755         4"
      ]
     },
     "execution_count": 8,
     "metadata": {},
     "output_type": "execute_result"
    }
   ],
   "source": [
    "df_val = biseline_data('val.csv')\n",
    "\n",
    "df_val.head()"
   ]
  },
  {
   "cell_type": "code",
   "execution_count": 9,
   "metadata": {
    "ExecuteTime": {
     "end_time": "2021-11-28T06:14:47.074385Z",
     "start_time": "2021-11-28T06:14:46.997834Z"
    }
   },
   "outputs": [
    {
     "data": {
      "text/html": [
       "<div>\n",
       "<style scoped>\n",
       "    .dataframe tbody tr th:only-of-type {\n",
       "        vertical-align: middle;\n",
       "    }\n",
       "\n",
       "    .dataframe tbody tr th {\n",
       "        vertical-align: top;\n",
       "    }\n",
       "\n",
       "    .dataframe thead th {\n",
       "        text-align: right;\n",
       "    }\n",
       "</style>\n",
       "<table border=\"1\" class=\"dataframe\">\n",
       "  <thead>\n",
       "    <tr style=\"text-align: right;\">\n",
       "      <th></th>\n",
       "      <th>label</th>\n",
       "      <th>Temp</th>\n",
       "      <th>Weight</th>\n",
       "      <th>Height</th>\n",
       "      <th>BMI</th>\n",
       "      <th>Diag_cat</th>\n",
       "    </tr>\n",
       "  </thead>\n",
       "  <tbody>\n",
       "    <tr>\n",
       "      <th>count</th>\n",
       "      <td>33095.000000</td>\n",
       "      <td>33095.000000</td>\n",
       "      <td>33095.000000</td>\n",
       "      <td>33095.000000</td>\n",
       "      <td>33095.000000</td>\n",
       "      <td>33095.000000</td>\n",
       "    </tr>\n",
       "    <tr>\n",
       "      <th>mean</th>\n",
       "      <td>0.004079</td>\n",
       "      <td>36.547814</td>\n",
       "      <td>77.682218</td>\n",
       "      <td>166.371627</td>\n",
       "      <td>27.548174</td>\n",
       "      <td>6.977942</td>\n",
       "    </tr>\n",
       "    <tr>\n",
       "      <th>std</th>\n",
       "      <td>0.063739</td>\n",
       "      <td>0.127381</td>\n",
       "      <td>20.962208</td>\n",
       "      <td>16.025511</td>\n",
       "      <td>5.886387</td>\n",
       "      <td>2.611344</td>\n",
       "    </tr>\n",
       "    <tr>\n",
       "      <th>min</th>\n",
       "      <td>0.000000</td>\n",
       "      <td>33.500000</td>\n",
       "      <td>3.000000</td>\n",
       "      <td>54.000000</td>\n",
       "      <td>10.288066</td>\n",
       "      <td>0.000000</td>\n",
       "    </tr>\n",
       "    <tr>\n",
       "      <th>25%</th>\n",
       "      <td>0.000000</td>\n",
       "      <td>36.500000</td>\n",
       "      <td>67.000000</td>\n",
       "      <td>161.000000</td>\n",
       "      <td>23.875433</td>\n",
       "      <td>7.000000</td>\n",
       "    </tr>\n",
       "    <tr>\n",
       "      <th>50%</th>\n",
       "      <td>0.000000</td>\n",
       "      <td>36.500000</td>\n",
       "      <td>78.000000</td>\n",
       "      <td>168.000000</td>\n",
       "      <td>27.343750</td>\n",
       "      <td>7.000000</td>\n",
       "    </tr>\n",
       "    <tr>\n",
       "      <th>75%</th>\n",
       "      <td>0.000000</td>\n",
       "      <td>36.600000</td>\n",
       "      <td>90.000000</td>\n",
       "      <td>176.000000</td>\n",
       "      <td>31.073541</td>\n",
       "      <td>7.000000</td>\n",
       "    </tr>\n",
       "    <tr>\n",
       "      <th>max</th>\n",
       "      <td>1.000000</td>\n",
       "      <td>39.600000</td>\n",
       "      <td>180.000000</td>\n",
       "      <td>220.000000</td>\n",
       "      <td>59.902111</td>\n",
       "      <td>19.000000</td>\n",
       "    </tr>\n",
       "  </tbody>\n",
       "</table>\n",
       "</div>"
      ],
      "text/plain": [
       "              label          Temp        Weight        Height           BMI  \\\n",
       "count  33095.000000  33095.000000  33095.000000  33095.000000  33095.000000   \n",
       "mean       0.004079     36.547814     77.682218    166.371627     27.548174   \n",
       "std        0.063739      0.127381     20.962208     16.025511      5.886387   \n",
       "min        0.000000     33.500000      3.000000     54.000000     10.288066   \n",
       "25%        0.000000     36.500000     67.000000    161.000000     23.875433   \n",
       "50%        0.000000     36.500000     78.000000    168.000000     27.343750   \n",
       "75%        0.000000     36.600000     90.000000    176.000000     31.073541   \n",
       "max        1.000000     39.600000    180.000000    220.000000     59.902111   \n",
       "\n",
       "           Diag_cat  \n",
       "count  33095.000000  \n",
       "mean       6.977942  \n",
       "std        2.611344  \n",
       "min        0.000000  \n",
       "25%        7.000000  \n",
       "50%        7.000000  \n",
       "75%        7.000000  \n",
       "max       19.000000  "
      ]
     },
     "execution_count": 9,
     "metadata": {},
     "output_type": "execute_result"
    }
   ],
   "source": [
    "df_train.describe()"
   ]
  },
  {
   "cell_type": "code",
   "execution_count": 27,
   "metadata": {
    "ExecuteTime": {
     "end_time": "2021-11-28T06:30:33.650597Z",
     "start_time": "2021-11-28T06:30:33.609536Z"
    }
   },
   "outputs": [
    {
     "data": {
      "text/plain": [
       "0    10951\n",
       "1       52\n",
       "Name: label, dtype: int64"
      ]
     },
     "execution_count": 27,
     "metadata": {},
     "output_type": "execute_result"
    }
   ],
   "source": [
    "df_val.describe()\n",
    "df_val['label'].value_counts()"
   ]
  },
  {
   "cell_type": "code",
   "execution_count": 11,
   "metadata": {
    "ExecuteTime": {
     "end_time": "2021-11-28T06:14:47.169722Z",
     "start_time": "2021-11-28T06:14:47.132608Z"
    }
   },
   "outputs": [
    {
     "name": "stdout",
     "output_type": "stream",
     "text": [
      "(1124, 5)\n",
      "(1124,)\n"
     ]
    }
   ],
   "source": [
    "# Готовим модель, но еще размерность не снижал\n",
    "\n",
    "target = df_train['label']\n",
    "features = df_train.drop('label', axis=1)\n",
    "val_target =  df_val['label']\n",
    "val_features = df_val.drop('label', axis=1)\n",
    "\n",
    "def downsample(features, target, fraction):\n",
    "    features_zeros = features[target == 0]\n",
    "    features_ones = features[target == 1]\n",
    "    target_zeros = target[target == 0]\n",
    "    target_ones = target[target == 1]\n",
    "\n",
    "    features_downsampled = pd.concat(\n",
    "        [features_zeros.sample(frac=fraction, random_state=12345)] + [features_ones])\n",
    "    target_downsampled = pd.concat(\n",
    "        [target_zeros.sample(frac=fraction, random_state=12345)] + [target_ones])\n",
    "    \n",
    "    features_downsampled, target_downsampled = shuffle(\n",
    "        features_downsampled, target_downsampled, random_state=12345)\n",
    "    \n",
    "    return features_downsampled, target_downsampled\n",
    "\n",
    "features_downsampled, target_downsampled = downsample(features, target, 0.03)\n",
    "\n",
    "print(features_downsampled.shape)\n",
    "print(target_downsampled.shape)"
   ]
  },
  {
   "cell_type": "code",
   "execution_count": 12,
   "metadata": {
    "ExecuteTime": {
     "end_time": "2021-11-28T06:14:47.190668Z",
     "start_time": "2021-11-28T06:14:47.172272Z"
    }
   },
   "outputs": [],
   "source": [
    "\n",
    "sc = StandardScaler()\n",
    "features_downsampled = sc.fit_transform(features_downsampled)\n",
    "val_features = sc.transform(val_features)"
   ]
  },
  {
   "cell_type": "code",
   "execution_count": 13,
   "metadata": {
    "ExecuteTime": {
     "end_time": "2021-11-28T06:14:47.761494Z",
     "start_time": "2021-11-28T06:14:47.195626Z"
    },
    "scrolled": true
   },
   "outputs": [
    {
     "name": "stdout",
     "output_type": "stream",
     "text": [
      "Метрики: 0.9498318640370808\n",
      "F1: [0.97425613 0.0212766 ]\n"
     ]
    }
   ],
   "source": [
    "\n",
    "\n",
    "clf=RandomForestClassifier(n_estimators=100)\n",
    "\n",
    "clf.fit(features_downsampled,target_downsampled)\n",
    "\n",
    "y_pred=clf.predict(val_features)\n",
    "\n",
    "\n",
    "\n",
    "print(\"Метрики:\",metrics.accuracy_score(val_target, y_pred))\n",
    "print(\"F1:\",metrics.f1_score(val_target, y_pred, average=None))\n"
   ]
  },
  {
   "cell_type": "markdown",
   "metadata": {},
   "source": [
    "Код ниже взят [отсюда](https://habr.com/ru/company/ods/blog/328372/)."
   ]
  },
  {
   "cell_type": "code",
   "execution_count": 32,
   "metadata": {
    "ExecuteTime": {
     "end_time": "2021-11-28T06:41:20.157214Z",
     "start_time": "2021-11-28T06:41:19.482584Z"
    }
   },
   "outputs": [
    {
     "name": "stdout",
     "output_type": "stream",
     "text": [
      "Матрица ошибок без нормализации\n",
      "[[10445   506]\n",
      " [   46     6]]\n"
     ]
    },
    {
     "data": {
      "image/png": "[encoded data removed]",
      "text/plain": [
       "<Figure size 720x576 with 2 Axes>"
      ]
     },
     "metadata": {
      "needs_background": "light"
     },
     "output_type": "display_data"
    }
   ],
   "source": [
    "import matplotlib.pyplot as plt\n",
    "\n",
    "\n",
    "def plot_confusion_matrix(cm, classes,\n",
    "                          normalize=False,\n",
    "                          title='Confusion matrix',\n",
    "                          cmap=plt.cm.Blues):\n",
    "    \"\"\"\n",
    "    Эта функция печатает матрицу ошибок. Если нужна норамлизация, \n",
    "    измени в функции значение`normalize=True`.\n",
    "    \"\"\"\n",
    "    plt.imshow(cm, interpolation='nearest', cmap=cmap)\n",
    "    plt.title(title)\n",
    "    plt.colorbar()\n",
    "    tick_marks = np.arange(len(classes))\n",
    "    plt.xticks(tick_marks, classes, rotation=45)\n",
    "    plt.yticks(tick_marks, classes)\n",
    "\n",
    "    if normalize:\n",
    "        cm = cm.astype('float') / cm.sum(axis=1)[:, np.newaxis]\n",
    "        print(\"Нормализованная матрица ошибок\")\n",
    "    else:\n",
    "        print('Матрица ошибок без нормализации')\n",
    "\n",
    "    print(cm)\n",
    "\n",
    "    thresh = cm.max() / 2.\n",
    "    for i, j in itertools.product(range(cm.shape[0]), range(cm.shape[1])):\n",
    "        plt.text(j, i, cm[i, j],\n",
    "                 horizontalalignment=\"center\",\n",
    "                 color=\"white\" if cm[i, j] > thresh else \"black\")\n",
    "\n",
    "    plt.tight_layout()\n",
    "    plt.ylabel('True label')\n",
    "    plt.xlabel('Predicted label')\n",
    "\n",
    "font = {'size' : 15}\n",
    "\n",
    "plt.rc('font', **font)\n",
    "\n",
    "cnf_matrix = metrics.confusion_matrix(val_target, y_pred)\n",
    "plt.figure(figsize=(10, 8))\n",
    "plot_confusion_matrix(cnf_matrix, classes=['Выжило', 'Умерло'],\n",
    "                      title='Матрица ошибок')\n",
    "plt.savefig(\"conf_matrix.png\")\n",
    "plt.show()\n"
   ]
  },
  {
   "cell_type": "code",
   "execution_count": 38,
   "metadata": {
    "ExecuteTime": {
     "end_time": "2021-11-28T06:49:10.643014Z",
     "start_time": "2021-11-28T06:49:09.905489Z"
    }
   },
   "outputs": [
    {
     "data": {
      "image/png": "[encoded data removed]",
      "text/plain": [
       "<Figure size 720x576 with 1 Axes>"
      ]
     },
     "metadata": {},
     "output_type": "display_data"
    }
   ],
   "source": [
    "sns.set(font_scale=1.5)\n",
    "sns.set_color_codes(\"muted\")\n",
    "\n",
    "plt.figure(figsize=(10, 8))\n",
    "fpr, tpr, thresholds = metrics.roc_curve(val_target, y_pred, pos_label=1)\n",
    "lw = 2\n",
    "plt.plot(fpr, tpr, lw=lw, label='ROC curve ')\n",
    "plt.plot([0, 1], [0, 1])\n",
    "plt.xlim([0.0, 1.0])\n",
    "plt.ylim([0.0, 1.05])\n",
    "plt.xlabel('False Positive Rate')\n",
    "plt.ylabel('True Positive Rate')\n",
    "plt.title('ROC curve')\n",
    "plt.savefig(\"ROC.png\")\n",
    "plt.show()"
   ]
  },
  {
   "cell_type": "code",
   "execution_count": null,
   "metadata": {},
   "outputs": [],
   "source": []
  }
 ],
 "metadata": {
  "kernelspec": {
   "display_name": "Python 3",
   "language": "python",
   "name": "python3"
  },
  "language_info": {
   "codemirror_mode": {
    "name": "ipython",
    "version": 3
   },
   "file_extension": ".py",
   "mimetype": "text/x-python",
   "name": "python",
   "nbconvert_exporter": "python",
   "pygments_lexer": "ipython3",
   "version": "3.7.3"
  }
 },
 "nbformat": 4,
 "nbformat_minor": 4
}
